{
 "cells": [
  {
   "cell_type": "markdown",
   "id": "64fa11db",
   "metadata": {},
   "source": [
    "# Data Science Tools and Ecosystem"
   ]
  },
  {
   "cell_type": "markdown",
   "id": "ae6a1900",
   "metadata": {},
   "source": [
    "   In this notebook, Data Science Tools and Ecosystem are summarized."
   ]
  },
  {
   "cell_type": "markdown",
   "id": "32cec7f1",
   "metadata": {},
   "source": [
    "# Objectives:\n",
    "- List popular language for Data Science\n",
    "- Commonly used library in Data Science\n",
    "- List popular Data Science Tools\n",
    "- Using some arithmetic expression in Python\n",
    "- Python program to convert 200 minutes to hour"
   ]
  },
  {
   "cell_type": "markdown",
   "id": "a71aaa45",
   "metadata": {},
   "source": [
    "Some of the popular languages that Data Scientists use are:\n",
    "1. Python \n",
    "2. SQL\n",
    "3. R\n",
    "4. Julia"
   ]
  },
  {
   "cell_type": "markdown",
   "id": "58368438",
   "metadata": {},
   "source": [
    "Some of the commonly used libraries used by Data Scientists include:\n",
    "1) NumPy\n",
    "2) Sciki-learn\n",
    "3) TensorFlow\n",
    "4) Seaborn"
   ]
  },
  {
   "cell_type": "markdown",
   "id": "df14f64f",
   "metadata": {},
   "source": [
    "|Data Science Tools|\n",
    "|------------------|\n",
    "|Apache Spark|\n",
    "|Apache Hadoop|\n",
    "|RapidMiner|"
   ]
  },
  {
   "cell_type": "markdown",
   "id": "27d23543",
   "metadata": {},
   "source": [
    "### Below are a few examples of evaluating arithmetic expressions in Python\n",
    "\n",
    "1. a + b (+ operator returns the sum of 2 numbers. However, if a and b are strings, it will concatenate them)\n",
    "2. a - b (Returns difference)\n",
    "3. a/b (Returns divison operation)"
   ]
  },
  {
   "cell_type": "code",
   "execution_count": 4,
   "id": "84c1bce3",
   "metadata": {},
   "outputs": [
    {
     "name": "stdout",
     "output_type": "stream",
     "text": [
      "17\n"
     ]
    }
   ],
   "source": [
    "# This a simple arithmetic expression to mutiply then add integers\n",
    "print((3*4)+5)"
   ]
  },
  {
   "cell_type": "code",
   "execution_count": 5,
   "id": "789d333a",
   "metadata": {},
   "outputs": [
    {
     "name": "stdout",
     "output_type": "stream",
     "text": [
      "200 minutes =  3.3333333333333335  hours\n"
     ]
    }
   ],
   "source": [
    "# This will convert 200 minutes to hours by diving by 60\n",
    "print(\"200 minutes = \", 200/60, \" hours\")"
   ]
  },
  {
   "cell_type": "markdown",
   "id": "8c971ab1",
   "metadata": {},
   "source": [
    "## Author \n",
    "Saksham Dhakal"
   ]
  },
  {
   "cell_type": "code",
   "execution_count": null,
   "id": "9d9f7631",
   "metadata": {},
   "outputs": [],
   "source": []
  }
 ],
 "metadata": {
  "kernelspec": {
   "display_name": "Python 3 (ipykernel)",
   "language": "python",
   "name": "python3"
  },
  "language_info": {
   "codemirror_mode": {
    "name": "ipython",
    "version": 3
   },
   "file_extension": ".py",
   "mimetype": "text/x-python",
   "name": "python",
   "nbconvert_exporter": "python",
   "pygments_lexer": "ipython3",
   "version": "3.9.6"
  }
 },
 "nbformat": 4,
 "nbformat_minor": 5
}
